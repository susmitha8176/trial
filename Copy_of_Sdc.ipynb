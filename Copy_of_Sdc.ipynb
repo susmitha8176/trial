{
  "nbformat": 4,
  "nbformat_minor": 0,
  "metadata": {
    "colab": {
      "name": "Copy of Sdc.ipynb",
      "provenance": [],
      "collapsed_sections": [
        "eCtBw9HwEeRT",
        "pb9mpI5CGGD0",
        "Nvbpy6kmGNyh"
      ],
      "toc_visible": true,
      "include_colab_link": true
    },
    "kernelspec": {
      "name": "python3",
      "display_name": "Python 3"
    },
    "accelerator": "TPU"
  },
  "cells": [
    {
      "cell_type": "markdown",
      "metadata": {
        "id": "view-in-github",
        "colab_type": "text"
      },
      "source": [
        "<a href=\"https://colab.research.google.com/github/susmitha8176/trial/blob/master/Copy_of_Sdc.ipynb\" target=\"_parent\"><img src=\"https://colab.research.google.com/assets/colab-badge.svg\" alt=\"Open In Colab\"/></a>"
      ]
    },
    {
      "cell_type": "code",
      "metadata": {
        "id": "Te5Ct3hUB5OQ",
        "colab_type": "code",
        "colab": {}
      },
      "source": [
        "from google.colab import files"
      ],
      "execution_count": 0,
      "outputs": []
    },
    {
      "cell_type": "markdown",
      "metadata": {
        "id": "in3lCWfhA2rI",
        "colab_type": "text"
      },
      "source": [
        "# Library Import"
      ]
    },
    {
      "cell_type": "code",
      "metadata": {
        "id": "jsEta6ATAcuI",
        "colab_type": "code",
        "colab": {}
      },
      "source": [
        "import pandas as pd\n",
        "import numpy as np\n",
        "import matplotlib.pyplot as plt\n",
        "from sklearn.decomposition import PCA\n",
        "from sklearn import preprocessing\n",
        "from sklearn.linear_model import LogisticRegressionCV\n",
        "from sklearn.naive_bayes import GaussianNB\n",
        "from sklearn.ensemble import RandomForestClassifier\n",
        "from sklearn.metrics import confusion_matrix\n",
        "from sklearn.metrics import roc_auc_score\n",
        "\n",
        "from sklearn.svm import LinearSVC \n",
        "from sklearn.svm import NuSVC\n",
        "\n",
        "from sklearn.model_selection import GridSearchCV, StratifiedKFold, train_test_split"
      ],
      "execution_count": 0,
      "outputs": []
    },
    {
      "cell_type": "markdown",
      "metadata": {
        "id": "yoQBxfVlfodn",
        "colab_type": "text"
      },
      "source": [
        "#DATA IMPORTS"
      ]
    },
    {
      "cell_type": "code",
      "metadata": {
        "id": "jI6rT5SWfeae",
        "colab_type": "code",
        "colab": {}
      },
      "source": [
        "train = pd.read_csv('/content/drive/My Drive/train.csv')\n",
        "test = pd.read_csv('/content/drive/My Drive/test.csv')\n",
        "#exp = pd.read_csv('/content/drive/My Drive/Project_12/Dataset/example_submission.csv')"
      ],
      "execution_count": 0,
      "outputs": []
    },
    {
      "cell_type": "code",
      "metadata": {
        "id": "dJDqHWgqExub",
        "colab_type": "code",
        "outputId": "77ffd9d3-717b-4df8-a588-5661099ff8e7",
        "colab": {
          "base_uri": "https://localhost:8080/",
          "height": 121
        }
      },
      "source": [
        "from google.colab import drive\n",
        "drive.mount('/content/drive')"
      ],
      "execution_count": 4,
      "outputs": [
        {
          "output_type": "stream",
          "text": [
            "Go to this URL in a browser: https://accounts.google.com/o/oauth2/auth?client_id=947318989803-6bn6qk8qdgf4n4g3pfee6491hc0brc4i.apps.googleusercontent.com&redirect_uri=urn%3aietf%3awg%3aoauth%3a2.0%3aoob&response_type=code&scope=email%20https%3a%2f%2fwww.googleapis.com%2fauth%2fdocs.test%20https%3a%2f%2fwww.googleapis.com%2fauth%2fdrive%20https%3a%2f%2fwww.googleapis.com%2fauth%2fdrive.photos.readonly%20https%3a%2f%2fwww.googleapis.com%2fauth%2fpeopleapi.readonly\n",
            "\n",
            "Enter your authorization code:\n",
            "··········\n",
            "Mounted at /content/drive\n"
          ],
          "name": "stdout"
        }
      ]
    },
    {
      "cell_type": "code",
      "metadata": {
        "id": "aPNA1rT_5riw",
        "colab_type": "code",
        "outputId": "3b8cd900-4101-4bf0-ab56-2de654acc973",
        "colab": {
          "base_uri": "https://localhost:8080/",
          "height": 34
        }
      },
      "source": [
        "len(train)"
      ],
      "execution_count": 6,
      "outputs": [
        {
          "output_type": "execute_result",
          "data": {
            "text/plain": [
              "604329"
            ]
          },
          "metadata": {
            "tags": []
          },
          "execution_count": 6
        }
      ]
    },
    {
      "cell_type": "markdown",
      "metadata": {
        "id": "me4_PYvvBKmx",
        "colab_type": "text"
      },
      "source": [
        "# Data preprocessing"
      ]
    },
    {
      "cell_type": "code",
      "metadata": {
        "id": "FusB9pDo15ac",
        "colab_type": "code",
        "colab": {}
      },
      "source": [
        "new_df = pd.DataFrame()\n",
        "noalert = train.index[train['IsAlert'] == 0]\n",
        "turnnoalert = train.iloc[noalert-1 & train['IsAlert'] == 1] \n",
        "for i in turnnoalert.index:\n",
        "    new_df = new_df.append(train[i-5:i+6])   \n",
        "new_df = new_df.drop_duplicates()\n",
        "sum(new_df.isna())"
      ],
      "execution_count": 0,
      "outputs": []
    },
    {
      "cell_type": "code",
      "metadata": {
        "id": "dHcnQELtBNUg",
        "colab_type": "code",
        "colab": {}
      },
      "source": [
        "pcadata = new_df.drop(columns = ['TrialID', 'ObsNum', 'IsAlert']) # Drop unneccessary columns\n",
        "X_scaled = preprocessing.scale(pcadata) \n",
        "pcadata.info()"
      ],
      "execution_count": 0,
      "outputs": []
    },
    {
      "cell_type": "code",
      "metadata": {
        "id": "ahMZzodd5oA-",
        "colab_type": "code",
        "colab": {}
      },
      "source": [
        "pcadata.info()"
      ],
      "execution_count": 0,
      "outputs": []
    },
    {
      "cell_type": "code",
      "metadata": {
        "id": "xbcOZYtH5kSN",
        "colab_type": "code",
        "colab": {}
      },
      "source": [
        "pca=PCA() \n",
        "pca.fit(X_scaled)\n"
      ],
      "execution_count": 0,
      "outputs": []
    },
    {
      "cell_type": "code",
      "metadata": {
        "id": "thSGSeYO5i5y",
        "colab_type": "code",
        "colab": {}
      },
      "source": [
        "X_pca=pca.transform(X_scaled) \n",
        "print (\"shape of X_pca\", X_pca.shape)\n",
        "y = pca.explained_variance_ratio_\n",
        "\n",
        "x = np.array([i for i in range(1, len(y)+1)])\n",
        "\n",
        "plt.plot(x, y, 'r-x')"
      ],
      "execution_count": 0,
      "outputs": []
    },
    {
      "cell_type": "markdown",
      "metadata": {
        "id": "7YcCgPbHD8jG",
        "colab_type": "text"
      },
      "source": [
        "# Filter principle components"
      ]
    },
    {
      "cell_type": "code",
      "metadata": {
        "id": "1XFgM71-5eF2",
        "colab_type": "code",
        "colab": {}
      },
      "source": [
        "sum(pca.explained_variance_ratio_[:14])\n",
        "X_pca = X_pca[:,:14] \n",
        "X_pca.shape \n",
        "\n",
        "X_pca \n",
        "new_df.IsAlert"
      ],
      "execution_count": 0,
      "outputs": []
    },
    {
      "cell_type": "code",
      "metadata": {
        "id": "WUo4OSIkpoT7",
        "colab_type": "code",
        "colab": {}
      },
      "source": [
        "skf = StratifiedKFold(n_splits=10)\n",
        "params = {}\n",
        "nb = GaussianNB()\n",
        "gs = GridSearchCV(nb, cv=skf, param_grid=params, return_train_score=True)\n",
        "\n",
        "x_train, x_test, y_train, y_test = train_test_split(X_pca, new_df.IsAlert, random_state = 42)"
      ],
      "execution_count": 0,
      "outputs": []
    },
    {
      "cell_type": "code",
      "metadata": {
        "id": "LkjaCOLhwJzQ",
        "colab_type": "code",
        "colab": {}
      },
      "source": [
        "nusvc = NuSVC(gamma = 'scale')\n",
        "nusvcgridsearch = GridSearchCV(nusvc, cv = skf, param_grid = params, return_train_score = True)\n",
        "nusvcgridsearch.fit(x_train, y_train)"
      ],
      "execution_count": 0,
      "outputs": []
    },
    {
      "cell_type": "code",
      "metadata": {
        "id": "IPO6HtmQ5ZXg",
        "colab_type": "code",
        "colab": {}
      },
      "source": [
        "nusvcgridsearch.cv_results_"
      ],
      "execution_count": 0,
      "outputs": []
    },
    {
      "cell_type": "code",
      "metadata": {
        "id": "loltqCnNwMl3",
        "colab_type": "code",
        "colab": {}
      },
      "source": [
        "nusvc_predict = nusvcgridsearch.predict(X_pca)\n",
        "confusion_matrix(new_df.IsAlert, nusvc_predict)"
      ],
      "execution_count": 0,
      "outputs": []
    },
    {
      "cell_type": "code",
      "metadata": {
        "id": "GD9F_VCywMW6",
        "colab_type": "code",
        "colab": {}
      },
      "source": [
        "roc_auc_score(new_df.IsAlert, nusvc_predict)"
      ],
      "execution_count": 0,
      "outputs": []
    },
    {
      "cell_type": "code",
      "metadata": {
        "id": "PC47b4vwwSo0",
        "colab_type": "code",
        "colab": {}
      },
      "source": [
        "from sklearn.svm import SVR\n",
        "from sklearn.svm import SVC"
      ],
      "execution_count": 0,
      "outputs": []
    },
    {
      "cell_type": "markdown",
      "metadata": {
        "id": "eCtBw9HwEeRT",
        "colab_type": "text"
      },
      "source": [
        "# epsilon - SVR\n"
      ]
    },
    {
      "cell_type": "code",
      "metadata": {
        "id": "9ktAyCoGwiOi",
        "colab_type": "code",
        "colab": {}
      },
      "source": [
        "svr = SVR(gamma='scale', C=1.0, epsilon=0.2)\n",
        "svrgridsearch = GridSearchCV(svr, cv = skf, param_grid = params, return_train_score = True)\n",
        "svrgridsearch.fit(x_train, y_train)"
      ],
      "execution_count": 0,
      "outputs": []
    },
    {
      "cell_type": "code",
      "metadata": {
        "id": "si55s8uqwiIM",
        "colab_type": "code",
        "colab": {}
      },
      "source": [
        "svrgridsearch.cv_results_"
      ],
      "execution_count": 0,
      "outputs": []
    },
    {
      "cell_type": "code",
      "metadata": {
        "id": "QRhtZGvjEkcw",
        "colab_type": "code",
        "colab": {}
      },
      "source": [
        "svrgridsearch.score(X_pca, new_df.IsAlert)"
      ],
      "execution_count": 0,
      "outputs": []
    },
    {
      "cell_type": "code",
      "metadata": {
        "id": "90-TzIQyEkZl",
        "colab_type": "code",
        "colab": {}
      },
      "source": [
        "svr_predict = svrgridsearch.predict(X_pca)\n",
        "\n",
        "confusion_matrix(new_df.IsAlert, svr_predict)"
      ],
      "execution_count": 0,
      "outputs": []
    },
    {
      "cell_type": "code",
      "metadata": {
        "id": "v9mnhfPiEkWF",
        "colab_type": "code",
        "colab": {}
      },
      "source": [
        "roc_auc_score(new_df.IsAlert, svr_predict)"
      ],
      "execution_count": 0,
      "outputs": []
    },
    {
      "cell_type": "code",
      "metadata": {
        "id": "4_Jr9mo1EkTF",
        "colab_type": "code",
        "colab": {}
      },
      "source": [
        "# C - SVC\n",
        "svc = SVC(gamma='auto')\n",
        "svcgridsearch = GridSearchCV(svc, cv = skf, param_grid = params, return_train_score = True)\n",
        "svcgridsearch.fit(x_train, y_train)"
      ],
      "execution_count": 0,
      "outputs": []
    },
    {
      "cell_type": "code",
      "metadata": {
        "id": "Qx4Fs4YoEkRW",
        "colab_type": "code",
        "colab": {}
      },
      "source": [
        "svcgridsearch.cv_results_"
      ],
      "execution_count": 0,
      "outputs": []
    },
    {
      "cell_type": "code",
      "metadata": {
        "id": "UBAS34ZsEkPk",
        "colab_type": "code",
        "colab": {}
      },
      "source": [
        "svcgridsearch.score(X_pca, new_df.IsAlert)"
      ],
      "execution_count": 0,
      "outputs": []
    },
    {
      "cell_type": "code",
      "metadata": {
        "id": "T8mDrMUlEkLx",
        "colab_type": "code",
        "colab": {}
      },
      "source": [
        "svc_predict = svcgridsearch.predict(X_pca)\n",
        "confusion_matrix(new_df.IsAlert, svc_predict)"
      ],
      "execution_count": 0,
      "outputs": []
    },
    {
      "cell_type": "code",
      "metadata": {
        "id": "IL2alqiWEkJk",
        "colab_type": "code",
        "colab": {}
      },
      "source": [
        "roc_auc_score(new_df.IsAlert, svc_predict)\n"
      ],
      "execution_count": 0,
      "outputs": []
    },
    {
      "cell_type": "code",
      "metadata": {
        "id": "VBm7Twi3EkGe",
        "colab_type": "code",
        "colab": {}
      },
      "source": [
        "from sklearn.neural_network import MLPClassifier\n",
        "\n",
        "nn1 = MLPClassifier(solver='adam', alpha=1e-5,activation = 'logistic',hidden_layer_sizes=(14, 14, 12, 10, 5), random_state=1)\n",
        "nngridsearch = GridSearchCV(nn1, cv = skf, param_grid = params, return_train_score = True)"
      ],
      "execution_count": 0,
      "outputs": []
    },
    {
      "cell_type": "code",
      "metadata": {
        "id": "Jd6GOneyFIGs",
        "colab_type": "code",
        "colab": {}
      },
      "source": [
        "nngridsearch.fit(x_train, y_train)"
      ],
      "execution_count": 0,
      "outputs": []
    },
    {
      "cell_type": "code",
      "metadata": {
        "id": "6zEQ-5bBFIE6",
        "colab_type": "code",
        "colab": {}
      },
      "source": [
        "nngridsearch.cv_results_"
      ],
      "execution_count": 0,
      "outputs": []
    },
    {
      "cell_type": "code",
      "metadata": {
        "id": "AeSeUqPPFIC4",
        "colab_type": "code",
        "colab": {}
      },
      "source": [
        "nngridsearch.score(X_pca, new_df.IsAlert)"
      ],
      "execution_count": 0,
      "outputs": []
    },
    {
      "cell_type": "code",
      "metadata": {
        "id": "oM85wwLnFH9n",
        "colab_type": "code",
        "colab": {}
      },
      "source": [
        "nn_predict = nngridsearch.predict(X_pca)\n",
        "\n",
        "confusion_matrix(new_df.IsAlert, nn_predict)"
      ],
      "execution_count": 0,
      "outputs": []
    },
    {
      "cell_type": "code",
      "metadata": {
        "id": "Sq-x9UuRFH0i",
        "colab_type": "code",
        "colab": {}
      },
      "source": [
        "roc_auc_score(new_df.IsAlert, nn_predict)"
      ],
      "execution_count": 0,
      "outputs": []
    },
    {
      "cell_type": "markdown",
      "metadata": {
        "id": "OOc3EvqdFuKo",
        "colab_type": "text"
      },
      "source": [
        "Model 2"
      ]
    },
    {
      "cell_type": "markdown",
      "metadata": {
        "id": "uAEXkcUuFxLV",
        "colab_type": "text"
      },
      "source": [
        "Use rolling means and std of each attribute as new features\n"
      ]
    },
    {
      "cell_type": "code",
      "metadata": {
        "id": "IWuD0vu9FHwb",
        "colab_type": "code",
        "outputId": "4db06e3a-4f20-4298-9615-2026910fbc49",
        "colab": {
          "base_uri": "https://localhost:8080/",
          "height": 218
        }
      },
      "source": [
        "#train_2 = train[train['TrialID'] <= 1]\n",
        "train_new = pd.DataFrame() # New df\n",
        "#train_new\n",
        "for i in range(0, max(train.TrialID)+1): # Within each trial\n",
        "    temp_data = train[train['TrialID'] == i] # Create a temporary df for each trial\n",
        "    for j in list(train)[3:]: # For all the attributes of each trial\n",
        "#        print (train_2[train_2['TrialID'] == i][j])\n",
        "        temp_data['m{}'.format(j)] = train[train['TrialID'] == i][j].rolling(window = 5).mean() # Create the Rolling mean\n",
        "        temp_data['sd{}'.format(j)] = train[train['TrialID'] == i][j].rolling(window = 5).std() # Create the Rolling Std\n",
        "    train_new = train_new.append(temp_data)"
      ],
      "execution_count": 7,
      "outputs": [
        {
          "output_type": "stream",
          "text": [
            "/usr/local/lib/python3.6/dist-packages/ipykernel_launcher.py:8: SettingWithCopyWarning: \n",
            "A value is trying to be set on a copy of a slice from a DataFrame.\n",
            "Try using .loc[row_indexer,col_indexer] = value instead\n",
            "\n",
            "See the caveats in the documentation: https://pandas.pydata.org/pandas-docs/stable/user_guide/indexing.html#returning-a-view-versus-a-copy\n",
            "  \n",
            "/usr/local/lib/python3.6/dist-packages/ipykernel_launcher.py:9: SettingWithCopyWarning: \n",
            "A value is trying to be set on a copy of a slice from a DataFrame.\n",
            "Try using .loc[row_indexer,col_indexer] = value instead\n",
            "\n",
            "See the caveats in the documentation: https://pandas.pydata.org/pandas-docs/stable/user_guide/indexing.html#returning-a-view-versus-a-copy\n",
            "  if __name__ == '__main__':\n"
          ],
          "name": "stderr"
        }
      ]
    },
    {
      "cell_type": "code",
      "metadata": {
        "id": "VRz5Qg8JFy2j",
        "colab_type": "code",
        "colab": {}
      },
      "source": [
        "train_new = train_new.fillna(0) # Missing Value"
      ],
      "execution_count": 0,
      "outputs": []
    },
    {
      "cell_type": "markdown",
      "metadata": {
        "id": "pb9mpI5CGGD0",
        "colab_type": "text"
      },
      "source": [
        "# Data partition\n"
      ]
    },
    {
      "cell_type": "code",
      "metadata": {
        "id": "4eW85KllFyxV",
        "colab_type": "code",
        "colab": {}
      },
      "source": [
        "train_new = train_new.drop(columns = ['TrialID', 'ObsNum', 'IsAlert']) # Drop unneccessary columns\n",
        "\n",
        "X_train, X_test, y_train, y_test = train_test_split(train_new, train.IsAlert, test_size = 0.2, random_state = 23)"
      ],
      "execution_count": 0,
      "outputs": []
    },
    {
      "cell_type": "code",
      "metadata": {
        "id": "HROmHrSrFyub",
        "colab_type": "code",
        "outputId": "c13f95d2-7356-48b7-9adb-8bc934662507",
        "colab": {
          "base_uri": "https://localhost:8080/",
          "height": 422
        }
      },
      "source": [
        "train_new"
      ],
      "execution_count": 10,
      "outputs": [
        {
          "output_type": "execute_result",
          "data": {
            "text/html": [
              "<div>\n",
              "<style scoped>\n",
              "    .dataframe tbody tr th:only-of-type {\n",
              "        vertical-align: middle;\n",
              "    }\n",
              "\n",
              "    .dataframe tbody tr th {\n",
              "        vertical-align: top;\n",
              "    }\n",
              "\n",
              "    .dataframe thead th {\n",
              "        text-align: right;\n",
              "    }\n",
              "</style>\n",
              "<table border=\"1\" class=\"dataframe\">\n",
              "  <thead>\n",
              "    <tr style=\"text-align: right;\">\n",
              "      <th></th>\n",
              "      <th>P1</th>\n",
              "      <th>P2</th>\n",
              "      <th>P3</th>\n",
              "      <th>P4</th>\n",
              "      <th>P5</th>\n",
              "      <th>P6</th>\n",
              "      <th>P7</th>\n",
              "      <th>P8</th>\n",
              "      <th>E1</th>\n",
              "      <th>E2</th>\n",
              "      <th>E3</th>\n",
              "      <th>E4</th>\n",
              "      <th>E5</th>\n",
              "      <th>E6</th>\n",
              "      <th>E7</th>\n",
              "      <th>E8</th>\n",
              "      <th>E9</th>\n",
              "      <th>E10</th>\n",
              "      <th>E11</th>\n",
              "      <th>V1</th>\n",
              "      <th>V2</th>\n",
              "      <th>V3</th>\n",
              "      <th>V4</th>\n",
              "      <th>V5</th>\n",
              "      <th>V6</th>\n",
              "      <th>V7</th>\n",
              "      <th>V8</th>\n",
              "      <th>V9</th>\n",
              "      <th>V10</th>\n",
              "      <th>V11</th>\n",
              "      <th>mP1</th>\n",
              "      <th>sdP1</th>\n",
              "      <th>mP2</th>\n",
              "      <th>sdP2</th>\n",
              "      <th>mP3</th>\n",
              "      <th>sdP3</th>\n",
              "      <th>mP4</th>\n",
              "      <th>sdP4</th>\n",
              "      <th>mP5</th>\n",
              "      <th>sdP5</th>\n",
              "      <th>...</th>\n",
              "      <th>mE3</th>\n",
              "      <th>sdE3</th>\n",
              "      <th>mE4</th>\n",
              "      <th>sdE4</th>\n",
              "      <th>mE5</th>\n",
              "      <th>sdE5</th>\n",
              "      <th>mE6</th>\n",
              "      <th>sdE6</th>\n",
              "      <th>mE7</th>\n",
              "      <th>sdE7</th>\n",
              "      <th>mE8</th>\n",
              "      <th>sdE8</th>\n",
              "      <th>mE9</th>\n",
              "      <th>sdE9</th>\n",
              "      <th>mE10</th>\n",
              "      <th>sdE10</th>\n",
              "      <th>mE11</th>\n",
              "      <th>sdE11</th>\n",
              "      <th>mV1</th>\n",
              "      <th>sdV1</th>\n",
              "      <th>mV2</th>\n",
              "      <th>sdV2</th>\n",
              "      <th>mV3</th>\n",
              "      <th>sdV3</th>\n",
              "      <th>mV4</th>\n",
              "      <th>sdV4</th>\n",
              "      <th>mV5</th>\n",
              "      <th>sdV5</th>\n",
              "      <th>mV6</th>\n",
              "      <th>sdV6</th>\n",
              "      <th>mV7</th>\n",
              "      <th>sdV7</th>\n",
              "      <th>mV8</th>\n",
              "      <th>sdV8</th>\n",
              "      <th>mV9</th>\n",
              "      <th>sdV9</th>\n",
              "      <th>mV10</th>\n",
              "      <th>sdV10</th>\n",
              "      <th>mV11</th>\n",
              "      <th>sdV11</th>\n",
              "    </tr>\n",
              "  </thead>\n",
              "  <tbody>\n",
              "    <tr>\n",
              "      <th>0</th>\n",
              "      <td>34.7406</td>\n",
              "      <td>9.84593</td>\n",
              "      <td>1400</td>\n",
              "      <td>42.8571</td>\n",
              "      <td>0.290601</td>\n",
              "      <td>572</td>\n",
              "      <td>104.8950</td>\n",
              "      <td>0</td>\n",
              "      <td>0.000</td>\n",
              "      <td>0.00</td>\n",
              "      <td>1</td>\n",
              "      <td>-20</td>\n",
              "      <td>0.015875</td>\n",
              "      <td>324</td>\n",
              "      <td>1</td>\n",
              "      <td>1</td>\n",
              "      <td>1</td>\n",
              "      <td>57</td>\n",
              "      <td>0.0</td>\n",
              "      <td>101.96</td>\n",
              "      <td>0.175</td>\n",
              "      <td>752</td>\n",
              "      <td>5.99375</td>\n",
              "      <td>0</td>\n",
              "      <td>2005</td>\n",
              "      <td>0</td>\n",
              "      <td>13.4</td>\n",
              "      <td>0</td>\n",
              "      <td>4</td>\n",
              "      <td>14.8004</td>\n",
              "      <td>0.00000</td>\n",
              "      <td>0.000000</td>\n",
              "      <td>0.000000</td>\n",
              "      <td>0.000000</td>\n",
              "      <td>0.0</td>\n",
              "      <td>0.000000</td>\n",
              "      <td>0.0000</td>\n",
              "      <td>0.000000</td>\n",
              "      <td>0.000000</td>\n",
              "      <td>0.000000</td>\n",
              "      <td>...</td>\n",
              "      <td>0.0</td>\n",
              "      <td>0.000000e+00</td>\n",
              "      <td>0.0</td>\n",
              "      <td>0.0</td>\n",
              "      <td>0.000000</td>\n",
              "      <td>0.0</td>\n",
              "      <td>0.0</td>\n",
              "      <td>0.000000</td>\n",
              "      <td>0.0</td>\n",
              "      <td>0.0</td>\n",
              "      <td>0.0</td>\n",
              "      <td>0.0</td>\n",
              "      <td>0.0</td>\n",
              "      <td>0.000000e+00</td>\n",
              "      <td>0.0</td>\n",
              "      <td>0.000000</td>\n",
              "      <td>0.0</td>\n",
              "      <td>0.0</td>\n",
              "      <td>0.000</td>\n",
              "      <td>0.000000</td>\n",
              "      <td>0.000</td>\n",
              "      <td>0.000000</td>\n",
              "      <td>0.0</td>\n",
              "      <td>0.000000</td>\n",
              "      <td>0.00000</td>\n",
              "      <td>0.000000</td>\n",
              "      <td>0.0</td>\n",
              "      <td>0.000000e+00</td>\n",
              "      <td>0.0</td>\n",
              "      <td>0.000000</td>\n",
              "      <td>0.0</td>\n",
              "      <td>0.0</td>\n",
              "      <td>0.00</td>\n",
              "      <td>0.000000</td>\n",
              "      <td>0.0</td>\n",
              "      <td>0.0</td>\n",
              "      <td>0.0</td>\n",
              "      <td>0.000000e+00</td>\n",
              "      <td>0.00000</td>\n",
              "      <td>0.000000</td>\n",
              "    </tr>\n",
              "    <tr>\n",
              "      <th>1</th>\n",
              "      <td>34.4215</td>\n",
              "      <td>13.41120</td>\n",
              "      <td>1400</td>\n",
              "      <td>42.8571</td>\n",
              "      <td>0.290601</td>\n",
              "      <td>572</td>\n",
              "      <td>104.8950</td>\n",
              "      <td>0</td>\n",
              "      <td>0.000</td>\n",
              "      <td>0.00</td>\n",
              "      <td>1</td>\n",
              "      <td>-20</td>\n",
              "      <td>0.015875</td>\n",
              "      <td>324</td>\n",
              "      <td>1</td>\n",
              "      <td>1</td>\n",
              "      <td>1</td>\n",
              "      <td>57</td>\n",
              "      <td>0.0</td>\n",
              "      <td>101.98</td>\n",
              "      <td>0.455</td>\n",
              "      <td>752</td>\n",
              "      <td>5.99375</td>\n",
              "      <td>0</td>\n",
              "      <td>2007</td>\n",
              "      <td>0</td>\n",
              "      <td>13.4</td>\n",
              "      <td>0</td>\n",
              "      <td>4</td>\n",
              "      <td>14.7729</td>\n",
              "      <td>0.00000</td>\n",
              "      <td>0.000000</td>\n",
              "      <td>0.000000</td>\n",
              "      <td>0.000000</td>\n",
              "      <td>0.0</td>\n",
              "      <td>0.000000</td>\n",
              "      <td>0.0000</td>\n",
              "      <td>0.000000</td>\n",
              "      <td>0.000000</td>\n",
              "      <td>0.000000</td>\n",
              "      <td>...</td>\n",
              "      <td>0.0</td>\n",
              "      <td>0.000000e+00</td>\n",
              "      <td>0.0</td>\n",
              "      <td>0.0</td>\n",
              "      <td>0.000000</td>\n",
              "      <td>0.0</td>\n",
              "      <td>0.0</td>\n",
              "      <td>0.000000</td>\n",
              "      <td>0.0</td>\n",
              "      <td>0.0</td>\n",
              "      <td>0.0</td>\n",
              "      <td>0.0</td>\n",
              "      <td>0.0</td>\n",
              "      <td>0.000000e+00</td>\n",
              "      <td>0.0</td>\n",
              "      <td>0.000000</td>\n",
              "      <td>0.0</td>\n",
              "      <td>0.0</td>\n",
              "      <td>0.000</td>\n",
              "      <td>0.000000</td>\n",
              "      <td>0.000</td>\n",
              "      <td>0.000000</td>\n",
              "      <td>0.0</td>\n",
              "      <td>0.000000</td>\n",
              "      <td>0.00000</td>\n",
              "      <td>0.000000</td>\n",
              "      <td>0.0</td>\n",
              "      <td>0.000000e+00</td>\n",
              "      <td>0.0</td>\n",
              "      <td>0.000000</td>\n",
              "      <td>0.0</td>\n",
              "      <td>0.0</td>\n",
              "      <td>0.00</td>\n",
              "      <td>0.000000</td>\n",
              "      <td>0.0</td>\n",
              "      <td>0.0</td>\n",
              "      <td>0.0</td>\n",
              "      <td>0.000000e+00</td>\n",
              "      <td>0.00000</td>\n",
              "      <td>0.000000</td>\n",
              "    </tr>\n",
              "    <tr>\n",
              "      <th>2</th>\n",
              "      <td>34.3447</td>\n",
              "      <td>15.18520</td>\n",
              "      <td>1400</td>\n",
              "      <td>42.8571</td>\n",
              "      <td>0.290601</td>\n",
              "      <td>576</td>\n",
              "      <td>104.1670</td>\n",
              "      <td>0</td>\n",
              "      <td>0.000</td>\n",
              "      <td>0.00</td>\n",
              "      <td>1</td>\n",
              "      <td>-20</td>\n",
              "      <td>0.015875</td>\n",
              "      <td>324</td>\n",
              "      <td>1</td>\n",
              "      <td>1</td>\n",
              "      <td>1</td>\n",
              "      <td>57</td>\n",
              "      <td>0.0</td>\n",
              "      <td>101.97</td>\n",
              "      <td>0.280</td>\n",
              "      <td>752</td>\n",
              "      <td>5.99375</td>\n",
              "      <td>0</td>\n",
              "      <td>2011</td>\n",
              "      <td>0</td>\n",
              "      <td>13.4</td>\n",
              "      <td>0</td>\n",
              "      <td>4</td>\n",
              "      <td>14.7736</td>\n",
              "      <td>0.00000</td>\n",
              "      <td>0.000000</td>\n",
              "      <td>0.000000</td>\n",
              "      <td>0.000000</td>\n",
              "      <td>0.0</td>\n",
              "      <td>0.000000</td>\n",
              "      <td>0.0000</td>\n",
              "      <td>0.000000</td>\n",
              "      <td>0.000000</td>\n",
              "      <td>0.000000</td>\n",
              "      <td>...</td>\n",
              "      <td>0.0</td>\n",
              "      <td>0.000000e+00</td>\n",
              "      <td>0.0</td>\n",
              "      <td>0.0</td>\n",
              "      <td>0.000000</td>\n",
              "      <td>0.0</td>\n",
              "      <td>0.0</td>\n",
              "      <td>0.000000</td>\n",
              "      <td>0.0</td>\n",
              "      <td>0.0</td>\n",
              "      <td>0.0</td>\n",
              "      <td>0.0</td>\n",
              "      <td>0.0</td>\n",
              "      <td>0.000000e+00</td>\n",
              "      <td>0.0</td>\n",
              "      <td>0.000000</td>\n",
              "      <td>0.0</td>\n",
              "      <td>0.0</td>\n",
              "      <td>0.000</td>\n",
              "      <td>0.000000</td>\n",
              "      <td>0.000</td>\n",
              "      <td>0.000000</td>\n",
              "      <td>0.0</td>\n",
              "      <td>0.000000</td>\n",
              "      <td>0.00000</td>\n",
              "      <td>0.000000</td>\n",
              "      <td>0.0</td>\n",
              "      <td>0.000000e+00</td>\n",
              "      <td>0.0</td>\n",
              "      <td>0.000000</td>\n",
              "      <td>0.0</td>\n",
              "      <td>0.0</td>\n",
              "      <td>0.00</td>\n",
              "      <td>0.000000</td>\n",
              "      <td>0.0</td>\n",
              "      <td>0.0</td>\n",
              "      <td>0.0</td>\n",
              "      <td>0.000000e+00</td>\n",
              "      <td>0.00000</td>\n",
              "      <td>0.000000</td>\n",
              "    </tr>\n",
              "    <tr>\n",
              "      <th>3</th>\n",
              "      <td>34.3421</td>\n",
              "      <td>8.84696</td>\n",
              "      <td>1400</td>\n",
              "      <td>42.8571</td>\n",
              "      <td>0.290601</td>\n",
              "      <td>576</td>\n",
              "      <td>104.1670</td>\n",
              "      <td>0</td>\n",
              "      <td>0.000</td>\n",
              "      <td>0.00</td>\n",
              "      <td>1</td>\n",
              "      <td>-20</td>\n",
              "      <td>0.015875</td>\n",
              "      <td>324</td>\n",
              "      <td>1</td>\n",
              "      <td>1</td>\n",
              "      <td>1</td>\n",
              "      <td>57</td>\n",
              "      <td>0.0</td>\n",
              "      <td>101.99</td>\n",
              "      <td>0.070</td>\n",
              "      <td>752</td>\n",
              "      <td>5.99375</td>\n",
              "      <td>0</td>\n",
              "      <td>2015</td>\n",
              "      <td>0</td>\n",
              "      <td>13.4</td>\n",
              "      <td>0</td>\n",
              "      <td>4</td>\n",
              "      <td>14.7667</td>\n",
              "      <td>0.00000</td>\n",
              "      <td>0.000000</td>\n",
              "      <td>0.000000</td>\n",
              "      <td>0.000000</td>\n",
              "      <td>0.0</td>\n",
              "      <td>0.000000</td>\n",
              "      <td>0.0000</td>\n",
              "      <td>0.000000</td>\n",
              "      <td>0.000000</td>\n",
              "      <td>0.000000</td>\n",
              "      <td>...</td>\n",
              "      <td>0.0</td>\n",
              "      <td>0.000000e+00</td>\n",
              "      <td>0.0</td>\n",
              "      <td>0.0</td>\n",
              "      <td>0.000000</td>\n",
              "      <td>0.0</td>\n",
              "      <td>0.0</td>\n",
              "      <td>0.000000</td>\n",
              "      <td>0.0</td>\n",
              "      <td>0.0</td>\n",
              "      <td>0.0</td>\n",
              "      <td>0.0</td>\n",
              "      <td>0.0</td>\n",
              "      <td>0.000000e+00</td>\n",
              "      <td>0.0</td>\n",
              "      <td>0.000000</td>\n",
              "      <td>0.0</td>\n",
              "      <td>0.0</td>\n",
              "      <td>0.000</td>\n",
              "      <td>0.000000</td>\n",
              "      <td>0.000</td>\n",
              "      <td>0.000000</td>\n",
              "      <td>0.0</td>\n",
              "      <td>0.000000</td>\n",
              "      <td>0.00000</td>\n",
              "      <td>0.000000</td>\n",
              "      <td>0.0</td>\n",
              "      <td>0.000000e+00</td>\n",
              "      <td>0.0</td>\n",
              "      <td>0.000000</td>\n",
              "      <td>0.0</td>\n",
              "      <td>0.0</td>\n",
              "      <td>0.00</td>\n",
              "      <td>0.000000</td>\n",
              "      <td>0.0</td>\n",
              "      <td>0.0</td>\n",
              "      <td>0.0</td>\n",
              "      <td>0.000000e+00</td>\n",
              "      <td>0.00000</td>\n",
              "      <td>0.000000</td>\n",
              "    </tr>\n",
              "    <tr>\n",
              "      <th>4</th>\n",
              "      <td>34.3322</td>\n",
              "      <td>14.69940</td>\n",
              "      <td>1400</td>\n",
              "      <td>42.8571</td>\n",
              "      <td>0.290601</td>\n",
              "      <td>576</td>\n",
              "      <td>104.1670</td>\n",
              "      <td>0</td>\n",
              "      <td>0.000</td>\n",
              "      <td>0.00</td>\n",
              "      <td>1</td>\n",
              "      <td>-20</td>\n",
              "      <td>0.015875</td>\n",
              "      <td>324</td>\n",
              "      <td>1</td>\n",
              "      <td>1</td>\n",
              "      <td>1</td>\n",
              "      <td>57</td>\n",
              "      <td>0.0</td>\n",
              "      <td>102.07</td>\n",
              "      <td>0.175</td>\n",
              "      <td>752</td>\n",
              "      <td>5.99375</td>\n",
              "      <td>0</td>\n",
              "      <td>2017</td>\n",
              "      <td>0</td>\n",
              "      <td>13.4</td>\n",
              "      <td>0</td>\n",
              "      <td>4</td>\n",
              "      <td>14.7757</td>\n",
              "      <td>34.43622</td>\n",
              "      <td>0.173867</td>\n",
              "      <td>12.397738</td>\n",
              "      <td>2.881599</td>\n",
              "      <td>1400.0</td>\n",
              "      <td>0.000000</td>\n",
              "      <td>42.8571</td>\n",
              "      <td>0.000000</td>\n",
              "      <td>0.290601</td>\n",
              "      <td>0.000000</td>\n",
              "      <td>...</td>\n",
              "      <td>1.0</td>\n",
              "      <td>0.000000e+00</td>\n",
              "      <td>-20.0</td>\n",
              "      <td>0.0</td>\n",
              "      <td>0.015875</td>\n",
              "      <td>0.0</td>\n",
              "      <td>324.0</td>\n",
              "      <td>0.000000</td>\n",
              "      <td>1.0</td>\n",
              "      <td>0.0</td>\n",
              "      <td>1.0</td>\n",
              "      <td>0.0</td>\n",
              "      <td>1.0</td>\n",
              "      <td>0.000000e+00</td>\n",
              "      <td>57.0</td>\n",
              "      <td>0.000000</td>\n",
              "      <td>0.0</td>\n",
              "      <td>0.0</td>\n",
              "      <td>101.994</td>\n",
              "      <td>0.043932</td>\n",
              "      <td>0.231</td>\n",
              "      <td>0.145576</td>\n",
              "      <td>752.0</td>\n",
              "      <td>0.000000</td>\n",
              "      <td>5.99375</td>\n",
              "      <td>0.000000</td>\n",
              "      <td>0.0</td>\n",
              "      <td>0.000000e+00</td>\n",
              "      <td>2011.0</td>\n",
              "      <td>5.099020</td>\n",
              "      <td>0.0</td>\n",
              "      <td>0.0</td>\n",
              "      <td>13.40</td>\n",
              "      <td>0.000000</td>\n",
              "      <td>0.0</td>\n",
              "      <td>0.0</td>\n",
              "      <td>4.0</td>\n",
              "      <td>0.000000e+00</td>\n",
              "      <td>14.77786</td>\n",
              "      <td>0.013039</td>\n",
              "    </tr>\n",
              "    <tr>\n",
              "      <th>...</th>\n",
              "      <td>...</td>\n",
              "      <td>...</td>\n",
              "      <td>...</td>\n",
              "      <td>...</td>\n",
              "      <td>...</td>\n",
              "      <td>...</td>\n",
              "      <td>...</td>\n",
              "      <td>...</td>\n",
              "      <td>...</td>\n",
              "      <td>...</td>\n",
              "      <td>...</td>\n",
              "      <td>...</td>\n",
              "      <td>...</td>\n",
              "      <td>...</td>\n",
              "      <td>...</td>\n",
              "      <td>...</td>\n",
              "      <td>...</td>\n",
              "      <td>...</td>\n",
              "      <td>...</td>\n",
              "      <td>...</td>\n",
              "      <td>...</td>\n",
              "      <td>...</td>\n",
              "      <td>...</td>\n",
              "      <td>...</td>\n",
              "      <td>...</td>\n",
              "      <td>...</td>\n",
              "      <td>...</td>\n",
              "      <td>...</td>\n",
              "      <td>...</td>\n",
              "      <td>...</td>\n",
              "      <td>...</td>\n",
              "      <td>...</td>\n",
              "      <td>...</td>\n",
              "      <td>...</td>\n",
              "      <td>...</td>\n",
              "      <td>...</td>\n",
              "      <td>...</td>\n",
              "      <td>...</td>\n",
              "      <td>...</td>\n",
              "      <td>...</td>\n",
              "      <td>...</td>\n",
              "      <td>...</td>\n",
              "      <td>...</td>\n",
              "      <td>...</td>\n",
              "      <td>...</td>\n",
              "      <td>...</td>\n",
              "      <td>...</td>\n",
              "      <td>...</td>\n",
              "      <td>...</td>\n",
              "      <td>...</td>\n",
              "      <td>...</td>\n",
              "      <td>...</td>\n",
              "      <td>...</td>\n",
              "      <td>...</td>\n",
              "      <td>...</td>\n",
              "      <td>...</td>\n",
              "      <td>...</td>\n",
              "      <td>...</td>\n",
              "      <td>...</td>\n",
              "      <td>...</td>\n",
              "      <td>...</td>\n",
              "      <td>...</td>\n",
              "      <td>...</td>\n",
              "      <td>...</td>\n",
              "      <td>...</td>\n",
              "      <td>...</td>\n",
              "      <td>...</td>\n",
              "      <td>...</td>\n",
              "      <td>...</td>\n",
              "      <td>...</td>\n",
              "      <td>...</td>\n",
              "      <td>...</td>\n",
              "      <td>...</td>\n",
              "      <td>...</td>\n",
              "      <td>...</td>\n",
              "      <td>...</td>\n",
              "      <td>...</td>\n",
              "      <td>...</td>\n",
              "      <td>...</td>\n",
              "      <td>...</td>\n",
              "      <td>...</td>\n",
              "    </tr>\n",
              "    <tr>\n",
              "      <th>604324</th>\n",
              "      <td>32.0051</td>\n",
              "      <td>10.13240</td>\n",
              "      <td>800</td>\n",
              "      <td>75.0000</td>\n",
              "      <td>0.081731</td>\n",
              "      <td>680</td>\n",
              "      <td>88.2353</td>\n",
              "      <td>0</td>\n",
              "      <td>17.807</td>\n",
              "      <td>222.11</td>\n",
              "      <td>0</td>\n",
              "      <td>0</td>\n",
              "      <td>0.016379</td>\n",
              "      <td>322</td>\n",
              "      <td>2</td>\n",
              "      <td>2</td>\n",
              "      <td>1</td>\n",
              "      <td>64</td>\n",
              "      <td>0.0</td>\n",
              "      <td>91.51</td>\n",
              "      <td>0.280</td>\n",
              "      <td>240</td>\n",
              "      <td>3.01875</td>\n",
              "      <td>0</td>\n",
              "      <td>1801</td>\n",
              "      <td>0</td>\n",
              "      <td>30.4</td>\n",
              "      <td>0</td>\n",
              "      <td>4</td>\n",
              "      <td>15.8113</td>\n",
              "      <td>32.00594</td>\n",
              "      <td>0.015251</td>\n",
              "      <td>12.199390</td>\n",
              "      <td>4.141035</td>\n",
              "      <td>696.0</td>\n",
              "      <td>142.407865</td>\n",
              "      <td>89.4444</td>\n",
              "      <td>19.778809</td>\n",
              "      <td>0.094185</td>\n",
              "      <td>0.017054</td>\n",
              "      <td>...</td>\n",
              "      <td>0.0</td>\n",
              "      <td>6.322027e-08</td>\n",
              "      <td>0.0</td>\n",
              "      <td>0.0</td>\n",
              "      <td>0.016379</td>\n",
              "      <td>0.0</td>\n",
              "      <td>322.8</td>\n",
              "      <td>0.447214</td>\n",
              "      <td>2.0</td>\n",
              "      <td>0.0</td>\n",
              "      <td>2.0</td>\n",
              "      <td>0.0</td>\n",
              "      <td>1.0</td>\n",
              "      <td>7.450581e-09</td>\n",
              "      <td>64.0</td>\n",
              "      <td>0.000001</td>\n",
              "      <td>0.0</td>\n",
              "      <td>0.0</td>\n",
              "      <td>91.378</td>\n",
              "      <td>0.092033</td>\n",
              "      <td>0.196</td>\n",
              "      <td>0.046957</td>\n",
              "      <td>240.0</td>\n",
              "      <td>0.000041</td>\n",
              "      <td>3.01875</td>\n",
              "      <td>0.000001</td>\n",
              "      <td>0.0</td>\n",
              "      <td>1.580507e-08</td>\n",
              "      <td>1794.2</td>\n",
              "      <td>3.834058</td>\n",
              "      <td>0.0</td>\n",
              "      <td>0.0</td>\n",
              "      <td>29.84</td>\n",
              "      <td>0.371484</td>\n",
              "      <td>0.0</td>\n",
              "      <td>0.0</td>\n",
              "      <td>4.0</td>\n",
              "      <td>3.204616e-08</td>\n",
              "      <td>15.82584</td>\n",
              "      <td>0.011552</td>\n",
              "    </tr>\n",
              "    <tr>\n",
              "      <th>604325</th>\n",
              "      <td>32.0393</td>\n",
              "      <td>12.45040</td>\n",
              "      <td>800</td>\n",
              "      <td>75.0000</td>\n",
              "      <td>0.081731</td>\n",
              "      <td>680</td>\n",
              "      <td>88.2353</td>\n",
              "      <td>0</td>\n",
              "      <td>17.807</td>\n",
              "      <td>222.11</td>\n",
              "      <td>0</td>\n",
              "      <td>0</td>\n",
              "      <td>0.016379</td>\n",
              "      <td>322</td>\n",
              "      <td>2</td>\n",
              "      <td>2</td>\n",
              "      <td>1</td>\n",
              "      <td>64</td>\n",
              "      <td>0.0</td>\n",
              "      <td>91.51</td>\n",
              "      <td>0.280</td>\n",
              "      <td>240</td>\n",
              "      <td>3.01875</td>\n",
              "      <td>0</td>\n",
              "      <td>1801</td>\n",
              "      <td>0</td>\n",
              "      <td>30.4</td>\n",
              "      <td>0</td>\n",
              "      <td>4</td>\n",
              "      <td>15.8018</td>\n",
              "      <td>32.01616</td>\n",
              "      <td>0.017366</td>\n",
              "      <td>11.173110</td>\n",
              "      <td>2.933390</td>\n",
              "      <td>748.0</td>\n",
              "      <td>116.275535</td>\n",
              "      <td>82.2222</td>\n",
              "      <td>16.149330</td>\n",
              "      <td>0.087958</td>\n",
              "      <td>0.013924</td>\n",
              "      <td>...</td>\n",
              "      <td>0.0</td>\n",
              "      <td>6.322027e-08</td>\n",
              "      <td>0.0</td>\n",
              "      <td>0.0</td>\n",
              "      <td>0.016379</td>\n",
              "      <td>0.0</td>\n",
              "      <td>322.6</td>\n",
              "      <td>0.547723</td>\n",
              "      <td>2.0</td>\n",
              "      <td>0.0</td>\n",
              "      <td>2.0</td>\n",
              "      <td>0.0</td>\n",
              "      <td>1.0</td>\n",
              "      <td>7.450581e-09</td>\n",
              "      <td>64.0</td>\n",
              "      <td>0.000001</td>\n",
              "      <td>0.0</td>\n",
              "      <td>0.0</td>\n",
              "      <td>91.422</td>\n",
              "      <td>0.092033</td>\n",
              "      <td>0.217</td>\n",
              "      <td>0.057511</td>\n",
              "      <td>240.0</td>\n",
              "      <td>0.000041</td>\n",
              "      <td>3.01875</td>\n",
              "      <td>0.000001</td>\n",
              "      <td>0.0</td>\n",
              "      <td>1.580507e-08</td>\n",
              "      <td>1795.8</td>\n",
              "      <td>4.764452</td>\n",
              "      <td>0.0</td>\n",
              "      <td>0.0</td>\n",
              "      <td>30.02</td>\n",
              "      <td>0.383406</td>\n",
              "      <td>0.0</td>\n",
              "      <td>0.0</td>\n",
              "      <td>4.0</td>\n",
              "      <td>3.204616e-08</td>\n",
              "      <td>15.81866</td>\n",
              "      <td>0.013353</td>\n",
              "    </tr>\n",
              "    <tr>\n",
              "      <th>604326</th>\n",
              "      <td>32.0762</td>\n",
              "      <td>10.06180</td>\n",
              "      <td>800</td>\n",
              "      <td>75.0000</td>\n",
              "      <td>0.081731</td>\n",
              "      <td>680</td>\n",
              "      <td>88.2353</td>\n",
              "      <td>0</td>\n",
              "      <td>17.807</td>\n",
              "      <td>222.11</td>\n",
              "      <td>0</td>\n",
              "      <td>0</td>\n",
              "      <td>0.016379</td>\n",
              "      <td>322</td>\n",
              "      <td>2</td>\n",
              "      <td>2</td>\n",
              "      <td>1</td>\n",
              "      <td>64</td>\n",
              "      <td>0.0</td>\n",
              "      <td>91.56</td>\n",
              "      <td>0.175</td>\n",
              "      <td>240</td>\n",
              "      <td>3.01875</td>\n",
              "      <td>0</td>\n",
              "      <td>1800</td>\n",
              "      <td>0</td>\n",
              "      <td>31.3</td>\n",
              "      <td>0</td>\n",
              "      <td>4</td>\n",
              "      <td>15.8120</td>\n",
              "      <td>32.03048</td>\n",
              "      <td>0.030216</td>\n",
              "      <td>11.158890</td>\n",
              "      <td>2.939858</td>\n",
              "      <td>800.0</td>\n",
              "      <td>0.000000</td>\n",
              "      <td>75.0000</td>\n",
              "      <td>0.000002</td>\n",
              "      <td>0.081731</td>\n",
              "      <td>0.000000</td>\n",
              "      <td>...</td>\n",
              "      <td>0.0</td>\n",
              "      <td>6.322027e-08</td>\n",
              "      <td>0.0</td>\n",
              "      <td>0.0</td>\n",
              "      <td>0.016379</td>\n",
              "      <td>0.0</td>\n",
              "      <td>322.4</td>\n",
              "      <td>0.547723</td>\n",
              "      <td>2.0</td>\n",
              "      <td>0.0</td>\n",
              "      <td>2.0</td>\n",
              "      <td>0.0</td>\n",
              "      <td>1.0</td>\n",
              "      <td>7.450581e-09</td>\n",
              "      <td>64.0</td>\n",
              "      <td>0.000001</td>\n",
              "      <td>0.0</td>\n",
              "      <td>0.0</td>\n",
              "      <td>91.476</td>\n",
              "      <td>0.072319</td>\n",
              "      <td>0.217</td>\n",
              "      <td>0.057511</td>\n",
              "      <td>240.0</td>\n",
              "      <td>0.000041</td>\n",
              "      <td>3.01875</td>\n",
              "      <td>0.000001</td>\n",
              "      <td>0.0</td>\n",
              "      <td>1.580507e-08</td>\n",
              "      <td>1797.2</td>\n",
              "      <td>4.764452</td>\n",
              "      <td>0.0</td>\n",
              "      <td>0.0</td>\n",
              "      <td>30.38</td>\n",
              "      <td>0.571839</td>\n",
              "      <td>0.0</td>\n",
              "      <td>0.0</td>\n",
              "      <td>4.0</td>\n",
              "      <td>3.204616e-08</td>\n",
              "      <td>15.81428</td>\n",
              "      <td>0.010361</td>\n",
              "    </tr>\n",
              "    <tr>\n",
              "      <th>604327</th>\n",
              "      <td>32.1154</td>\n",
              "      <td>17.84500</td>\n",
              "      <td>800</td>\n",
              "      <td>75.0000</td>\n",
              "      <td>0.081731</td>\n",
              "      <td>680</td>\n",
              "      <td>88.2353</td>\n",
              "      <td>0</td>\n",
              "      <td>17.807</td>\n",
              "      <td>222.11</td>\n",
              "      <td>0</td>\n",
              "      <td>0</td>\n",
              "      <td>0.016379</td>\n",
              "      <td>322</td>\n",
              "      <td>2</td>\n",
              "      <td>2</td>\n",
              "      <td>1</td>\n",
              "      <td>64</td>\n",
              "      <td>0.0</td>\n",
              "      <td>91.56</td>\n",
              "      <td>0.175</td>\n",
              "      <td>240</td>\n",
              "      <td>3.01875</td>\n",
              "      <td>0</td>\n",
              "      <td>1800</td>\n",
              "      <td>0</td>\n",
              "      <td>31.3</td>\n",
              "      <td>0</td>\n",
              "      <td>4</td>\n",
              "      <td>15.8270</td>\n",
              "      <td>32.05326</td>\n",
              "      <td>0.043096</td>\n",
              "      <td>11.634450</td>\n",
              "      <td>3.859495</td>\n",
              "      <td>800.0</td>\n",
              "      <td>0.000000</td>\n",
              "      <td>75.0000</td>\n",
              "      <td>0.000002</td>\n",
              "      <td>0.081731</td>\n",
              "      <td>0.000000</td>\n",
              "      <td>...</td>\n",
              "      <td>0.0</td>\n",
              "      <td>6.322027e-08</td>\n",
              "      <td>0.0</td>\n",
              "      <td>0.0</td>\n",
              "      <td>0.016379</td>\n",
              "      <td>0.0</td>\n",
              "      <td>322.2</td>\n",
              "      <td>0.447214</td>\n",
              "      <td>2.0</td>\n",
              "      <td>0.0</td>\n",
              "      <td>2.0</td>\n",
              "      <td>0.0</td>\n",
              "      <td>1.0</td>\n",
              "      <td>7.450581e-09</td>\n",
              "      <td>64.0</td>\n",
              "      <td>0.000001</td>\n",
              "      <td>0.0</td>\n",
              "      <td>0.0</td>\n",
              "      <td>91.508</td>\n",
              "      <td>0.065345</td>\n",
              "      <td>0.217</td>\n",
              "      <td>0.057511</td>\n",
              "      <td>240.0</td>\n",
              "      <td>0.000041</td>\n",
              "      <td>3.01875</td>\n",
              "      <td>0.000001</td>\n",
              "      <td>0.0</td>\n",
              "      <td>1.580507e-08</td>\n",
              "      <td>1798.8</td>\n",
              "      <td>3.834058</td>\n",
              "      <td>0.0</td>\n",
              "      <td>0.0</td>\n",
              "      <td>30.66</td>\n",
              "      <td>0.618870</td>\n",
              "      <td>0.0</td>\n",
              "      <td>0.0</td>\n",
              "      <td>4.0</td>\n",
              "      <td>3.204616e-08</td>\n",
              "      <td>15.81648</td>\n",
              "      <td>0.011875</td>\n",
              "    </tr>\n",
              "    <tr>\n",
              "      <th>604328</th>\n",
              "      <td>32.1154</td>\n",
              "      <td>17.84500</td>\n",
              "      <td>800</td>\n",
              "      <td>75.0000</td>\n",
              "      <td>0.081731</td>\n",
              "      <td>680</td>\n",
              "      <td>88.2353</td>\n",
              "      <td>0</td>\n",
              "      <td>17.807</td>\n",
              "      <td>222.11</td>\n",
              "      <td>0</td>\n",
              "      <td>0</td>\n",
              "      <td>0.016379</td>\n",
              "      <td>322</td>\n",
              "      <td>2</td>\n",
              "      <td>2</td>\n",
              "      <td>1</td>\n",
              "      <td>64</td>\n",
              "      <td>0.0</td>\n",
              "      <td>91.56</td>\n",
              "      <td>0.175</td>\n",
              "      <td>240</td>\n",
              "      <td>3.01875</td>\n",
              "      <td>0</td>\n",
              "      <td>1800</td>\n",
              "      <td>0</td>\n",
              "      <td>31.3</td>\n",
              "      <td>0</td>\n",
              "      <td>4</td>\n",
              "      <td>15.8270</td>\n",
              "      <td>32.07028</td>\n",
              "      <td>0.048257</td>\n",
              "      <td>13.666920</td>\n",
              "      <td>3.933267</td>\n",
              "      <td>800.0</td>\n",
              "      <td>0.000000</td>\n",
              "      <td>75.0000</td>\n",
              "      <td>0.000002</td>\n",
              "      <td>0.081731</td>\n",
              "      <td>0.000000</td>\n",
              "      <td>...</td>\n",
              "      <td>0.0</td>\n",
              "      <td>6.322027e-08</td>\n",
              "      <td>0.0</td>\n",
              "      <td>0.0</td>\n",
              "      <td>0.016379</td>\n",
              "      <td>0.0</td>\n",
              "      <td>322.0</td>\n",
              "      <td>0.000022</td>\n",
              "      <td>2.0</td>\n",
              "      <td>0.0</td>\n",
              "      <td>2.0</td>\n",
              "      <td>0.0</td>\n",
              "      <td>1.0</td>\n",
              "      <td>7.450581e-09</td>\n",
              "      <td>64.0</td>\n",
              "      <td>0.000001</td>\n",
              "      <td>0.0</td>\n",
              "      <td>0.0</td>\n",
              "      <td>91.540</td>\n",
              "      <td>0.027386</td>\n",
              "      <td>0.217</td>\n",
              "      <td>0.057511</td>\n",
              "      <td>240.0</td>\n",
              "      <td>0.000041</td>\n",
              "      <td>3.01875</td>\n",
              "      <td>0.000001</td>\n",
              "      <td>0.0</td>\n",
              "      <td>1.580507e-08</td>\n",
              "      <td>1800.4</td>\n",
              "      <td>0.547723</td>\n",
              "      <td>0.0</td>\n",
              "      <td>0.0</td>\n",
              "      <td>30.94</td>\n",
              "      <td>0.492950</td>\n",
              "      <td>0.0</td>\n",
              "      <td>0.0</td>\n",
              "      <td>4.0</td>\n",
              "      <td>3.204616e-08</td>\n",
              "      <td>15.81582</td>\n",
              "      <td>0.010972</td>\n",
              "    </tr>\n",
              "  </tbody>\n",
              "</table>\n",
              "<p>604329 rows × 90 columns</p>\n",
              "</div>"
            ],
            "text/plain": [
              "             P1        P2    P3  ...         sdV10      mV11     sdV11\n",
              "0       34.7406   9.84593  1400  ...  0.000000e+00   0.00000  0.000000\n",
              "1       34.4215  13.41120  1400  ...  0.000000e+00   0.00000  0.000000\n",
              "2       34.3447  15.18520  1400  ...  0.000000e+00   0.00000  0.000000\n",
              "3       34.3421   8.84696  1400  ...  0.000000e+00   0.00000  0.000000\n",
              "4       34.3322  14.69940  1400  ...  0.000000e+00  14.77786  0.013039\n",
              "...         ...       ...   ...  ...           ...       ...       ...\n",
              "604324  32.0051  10.13240   800  ...  3.204616e-08  15.82584  0.011552\n",
              "604325  32.0393  12.45040   800  ...  3.204616e-08  15.81866  0.013353\n",
              "604326  32.0762  10.06180   800  ...  3.204616e-08  15.81428  0.010361\n",
              "604327  32.1154  17.84500   800  ...  3.204616e-08  15.81648  0.011875\n",
              "604328  32.1154  17.84500   800  ...  3.204616e-08  15.81582  0.010972\n",
              "\n",
              "[604329 rows x 90 columns]"
            ]
          },
          "metadata": {
            "tags": []
          },
          "execution_count": 10
        }
      ]
    },
    {
      "cell_type": "markdown",
      "metadata": {
        "id": "Nvbpy6kmGNyh",
        "colab_type": "text"
      },
      "source": [
        "# Random Forest"
      ]
    },
    {
      "cell_type": "code",
      "metadata": {
        "id": "V79hvDEdFytT",
        "colab_type": "code",
        "outputId": "91c7a3d8-8e01-43fa-836c-ee83b6c1fd5e",
        "colab": {
          "base_uri": "https://localhost:8080/",
          "height": 151
        }
      },
      "source": [
        "from sklearn.ensemble import RandomForestClassifier\n",
        "\n",
        "forest = RandomForestClassifier(n_estimators = 50, random_state = 42)\n",
        "forest.fit(X_train, y_train)"
      ],
      "execution_count": 11,
      "outputs": [
        {
          "output_type": "execute_result",
          "data": {
            "text/plain": [
              "RandomForestClassifier(bootstrap=True, ccp_alpha=0.0, class_weight=None,\n",
              "                       criterion='gini', max_depth=None, max_features='auto',\n",
              "                       max_leaf_nodes=None, max_samples=None,\n",
              "                       min_impurity_decrease=0.0, min_impurity_split=None,\n",
              "                       min_samples_leaf=1, min_samples_split=2,\n",
              "                       min_weight_fraction_leaf=0.0, n_estimators=50,\n",
              "                       n_jobs=None, oob_score=False, random_state=42, verbose=0,\n",
              "                       warm_start=False)"
            ]
          },
          "metadata": {
            "tags": []
          },
          "execution_count": 11
        }
      ]
    },
    {
      "cell_type": "markdown",
      "metadata": {
        "id": "5kqstSUiGXgI",
        "colab_type": "text"
      },
      "source": [
        "# Accuracy"
      ]
    },
    {
      "cell_type": "code",
      "metadata": {
        "id": "w32UIHAkFyru",
        "colab_type": "code",
        "outputId": "42430f53-3291-446c-cd95-e074daec32ea",
        "colab": {
          "base_uri": "https://localhost:8080/",
          "height": 34
        }
      },
      "source": [
        "forest.score(X_test, y_test)"
      ],
      "execution_count": 0,
      "outputs": [
        {
          "output_type": "execute_result",
          "data": {
            "text/plain": [
              "0.9891615508083332"
            ]
          },
          "metadata": {
            "tags": []
          },
          "execution_count": 12
        }
      ]
    },
    {
      "cell_type": "code",
      "metadata": {
        "id": "lwQahzrVFym1",
        "colab_type": "code",
        "colab": {}
      },
      "source": [
        "for_predict = forest.predict(X_test)\n"
      ],
      "execution_count": 0,
      "outputs": []
    },
    {
      "cell_type": "code",
      "metadata": {
        "id": "ePhdkWRkFykH",
        "colab_type": "code",
        "outputId": "d37f004e-69a7-46c0-eed0-0225fa354ab4",
        "colab": {
          "base_uri": "https://localhost:8080/",
          "height": 50
        }
      },
      "source": [
        "# Confusion Matrix\n",
        "confusion_matrix(y_test, for_predict)"
      ],
      "execution_count": 0,
      "outputs": [
        {
          "output_type": "execute_result",
          "data": {
            "text/plain": [
              "array([[49663,  1247],\n",
              "       [   63, 69893]])"
            ]
          },
          "metadata": {
            "tags": []
          },
          "execution_count": 14
        }
      ]
    },
    {
      "cell_type": "code",
      "metadata": {
        "id": "sWktGtPHFyip",
        "colab_type": "code",
        "outputId": "98880e6b-4705-491d-a8cc-495d274a94a8",
        "colab": {
          "base_uri": "https://localhost:8080/",
          "height": 34
        }
      },
      "source": [
        "#AUC score\n",
        "roc_auc_score(y_test, for_predict)\n"
      ],
      "execution_count": 0,
      "outputs": [
        {
          "output_type": "execute_result",
          "data": {
            "text/plain": [
              "0.987302614234641"
            ]
          },
          "metadata": {
            "tags": []
          },
          "execution_count": 15
        }
      ]
    },
    {
      "cell_type": "code",
      "metadata": {
        "id": "BIqW1QOFFyfI",
        "colab_type": "code",
        "colab": {}
      },
      "source": [
        "from sklearn.linear_model import LogisticRegression\n"
      ],
      "execution_count": 0,
      "outputs": []
    },
    {
      "cell_type": "code",
      "metadata": {
        "id": "ffL8j0a_FydM",
        "colab_type": "code",
        "outputId": "91677310-65a5-44a4-a353-fae3ba1a9fe0",
        "colab": {
          "base_uri": "https://localhost:8080/",
          "height": 70
        }
      },
      "source": [
        "logr = LogisticRegression(random_state=0, solver='saga').fit(X_train, y_train)\n"
      ],
      "execution_count": 0,
      "outputs": [
        {
          "output_type": "stream",
          "text": [
            "/usr/local/lib/python3.6/dist-packages/sklearn/linear_model/_sag.py:330: ConvergenceWarning: The max_iter was reached which means the coef_ did not converge\n",
            "  \"the coef_ did not converge\", ConvergenceWarning)\n"
          ],
          "name": "stderr"
        }
      ]
    },
    {
      "cell_type": "code",
      "metadata": {
        "id": "gMi7Kk6TFyYa",
        "colab_type": "code",
        "outputId": "6099b1cc-1ca0-40b2-8aa2-a082eab11464",
        "colab": {
          "base_uri": "https://localhost:8080/",
          "height": 34
        }
      },
      "source": [
        "logr.score(X_test, y_test)\n"
      ],
      "execution_count": 0,
      "outputs": [
        {
          "output_type": "execute_result",
          "data": {
            "text/plain": [
              "0.6120745288170371"
            ]
          },
          "metadata": {
            "tags": []
          },
          "execution_count": 18
        }
      ]
    },
    {
      "cell_type": "code",
      "metadata": {
        "id": "V_HuAFguHV7I",
        "colab_type": "code",
        "colab": {}
      },
      "source": [
        "logr_pred = logr.predict(X_test)"
      ],
      "execution_count": 0,
      "outputs": []
    },
    {
      "cell_type": "code",
      "metadata": {
        "id": "UB-CloVkHV3b",
        "colab_type": "code",
        "outputId": "96ee2af3-7dca-4b01-e3ac-a3203c45d735",
        "colab": {
          "base_uri": "https://localhost:8080/",
          "height": 50
        }
      },
      "source": [
        "confusion_matrix(y_test, logr_pred)"
      ],
      "execution_count": 0,
      "outputs": [
        {
          "output_type": "execute_result",
          "data": {
            "text/plain": [
              "array([[21363, 29547],\n",
              "       [17340, 52616]])"
            ]
          },
          "metadata": {
            "tags": []
          },
          "execution_count": 20
        }
      ]
    },
    {
      "cell_type": "code",
      "metadata": {
        "id": "aqNZeJtOHV1g",
        "colab_type": "code",
        "outputId": "bf8483d1-3e1d-4326-d322-258323d00bdc",
        "colab": {
          "base_uri": "https://localhost:8080/",
          "height": 34
        }
      },
      "source": [
        "roc_auc_score(y_test, logr_pred)"
      ],
      "execution_count": 0,
      "outputs": [
        {
          "output_type": "execute_result",
          "data": {
            "text/plain": [
              "0.5858763870533589"
            ]
          },
          "metadata": {
            "tags": []
          },
          "execution_count": 21
        }
      ]
    },
    {
      "cell_type": "markdown",
      "metadata": {
        "id": "qWkGn_MiHiEW",
        "colab_type": "text"
      },
      "source": [
        "Naïve Bayes\n",
        "\n"
      ]
    },
    {
      "cell_type": "code",
      "metadata": {
        "id": "jmx2OtxeHVzg",
        "colab_type": "code",
        "colab": {}
      },
      "source": [
        "from sklearn.naive_bayes import GaussianNB"
      ],
      "execution_count": 0,
      "outputs": []
    },
    {
      "cell_type": "code",
      "metadata": {
        "id": "BY_o3troHVv0",
        "colab_type": "code",
        "outputId": "48b5bb0b-3240-40d7-9078-af579ba4948e",
        "colab": {
          "base_uri": "https://localhost:8080/",
          "height": 34
        }
      },
      "source": [
        "nb2 = GaussianNB()\n",
        "nb2.fit(X_train, y_train)"
      ],
      "execution_count": 0,
      "outputs": [
        {
          "output_type": "execute_result",
          "data": {
            "text/plain": [
              "GaussianNB(priors=None, var_smoothing=1e-09)"
            ]
          },
          "metadata": {
            "tags": []
          },
          "execution_count": 23
        }
      ]
    },
    {
      "cell_type": "code",
      "metadata": {
        "id": "YX0gRy1WHVtJ",
        "colab_type": "code",
        "outputId": "628c0a00-831d-4ca0-e613-86790e212068",
        "colab": {
          "base_uri": "https://localhost:8080/",
          "height": 34
        }
      },
      "source": [
        "nb2.score(X_test, y_test)"
      ],
      "execution_count": 0,
      "outputs": [
        {
          "output_type": "execute_result",
          "data": {
            "text/plain": [
              "0.6286300531166746"
            ]
          },
          "metadata": {
            "tags": []
          },
          "execution_count": 24
        }
      ]
    },
    {
      "cell_type": "code",
      "metadata": {
        "id": "gzn9-8LmHVq2",
        "colab_type": "code",
        "colab": {}
      },
      "source": [
        "nb2_pred = nb2.predict(X_test)"
      ],
      "execution_count": 0,
      "outputs": []
    },
    {
      "cell_type": "code",
      "metadata": {
        "id": "2D0FTJy10OH0",
        "colab_type": "code",
        "outputId": "cc242c15-d0c3-4b23-dacf-ddbcdbaf674e",
        "colab": {
          "base_uri": "https://localhost:8080/",
          "height": 50
        }
      },
      "source": [
        "confusion_matrix(y_test, nb2_pred)"
      ],
      "execution_count": 0,
      "outputs": [
        {
          "output_type": "execute_result",
          "data": {
            "text/plain": [
              "array([[44303,  6607],\n",
              "       [38279, 31677]])"
            ]
          },
          "metadata": {
            "tags": []
          },
          "execution_count": 26
        }
      ]
    },
    {
      "cell_type": "code",
      "metadata": {
        "id": "id_3DZ6jJIdh",
        "colab_type": "code",
        "outputId": "1d35f676-3d4c-4fd6-e537-0efa3438be47",
        "colab": {
          "base_uri": "https://localhost:8080/",
          "height": 34
        }
      },
      "source": [
        "roc_auc_score(y_test, nb2_pred)"
      ],
      "execution_count": 0,
      "outputs": [
        {
          "output_type": "execute_result",
          "data": {
            "text/plain": [
              "0.6615175785943694"
            ]
          },
          "metadata": {
            "tags": []
          },
          "execution_count": 27
        }
      ]
    },
    {
      "cell_type": "markdown",
      "metadata": {
        "id": "MtIXKUVw0U1W",
        "colab_type": "text"
      },
      "source": [
        "Nu-SVC"
      ]
    },
    {
      "cell_type": "code",
      "metadata": {
        "id": "IKiOg8zGJIVt",
        "colab_type": "code",
        "colab": {}
      },
      "source": [
        "nusvc2 = NuSVC(gamma = 'scale')"
      ],
      "execution_count": 0,
      "outputs": []
    },
    {
      "cell_type": "code",
      "metadata": {
        "id": "XK8kZsMuJISd",
        "colab_type": "code",
        "colab": {}
      },
      "source": [
        "nusvc2.fit(X_train, y_train)"
      ],
      "execution_count": 0,
      "outputs": []
    },
    {
      "cell_type": "code",
      "metadata": {
        "id": "7hLqNNCTJIQG",
        "colab_type": "code",
        "colab": {}
      },
      "source": [
        "nusvc2.score(X_test, y_test)"
      ],
      "execution_count": 0,
      "outputs": []
    },
    {
      "cell_type": "code",
      "metadata": {
        "id": "Hr1nsawsJIEM",
        "colab_type": "code",
        "colab": {}
      },
      "source": [
        "nusvc2_pred = nusvc2.predict(X_test)"
      ],
      "execution_count": 0,
      "outputs": []
    },
    {
      "cell_type": "code",
      "metadata": {
        "id": "6KF84T__Ko-v",
        "colab_type": "code",
        "colab": {}
      },
      "source": [
        "confusion_matrix(y_test, nusvc2_pred)"
      ],
      "execution_count": 0,
      "outputs": []
    },
    {
      "cell_type": "code",
      "metadata": {
        "id": "7l1supuCKo6M",
        "colab_type": "code",
        "colab": {}
      },
      "source": [
        "roc_auc_score(y_test, nb2_pred)"
      ],
      "execution_count": 0,
      "outputs": []
    },
    {
      "cell_type": "markdown",
      "metadata": {
        "id": "qsb24oBm0gd8",
        "colab_type": "text"
      },
      "source": [
        "Linear-SVC"
      ]
    },
    {
      "cell_type": "code",
      "metadata": {
        "id": "AwzcYHBXKotx",
        "colab_type": "code",
        "colab": {}
      },
      "source": [
        "from sklearn.svm import LinearSVC\n",
        "lisvc2 = LinearSVC(random_state=42, tol=1e-5)"
      ],
      "execution_count": 0,
      "outputs": []
    },
    {
      "cell_type": "code",
      "metadata": {
        "id": "zbAS2pxFKoh_",
        "colab_type": "code",
        "colab": {}
      },
      "source": [
        "lisvc2.fit(X_train, y_train)"
      ],
      "execution_count": 0,
      "outputs": []
    },
    {
      "cell_type": "code",
      "metadata": {
        "id": "8vquBRVK0tzP",
        "colab_type": "code",
        "colab": {}
      },
      "source": [
        "lisvc2.score(X_test, y_test)"
      ],
      "execution_count": 0,
      "outputs": []
    },
    {
      "cell_type": "code",
      "metadata": {
        "id": "NoRQsAX20tx0",
        "colab_type": "code",
        "colab": {}
      },
      "source": [
        "lisvc2_pred = lisvc2.predict(X_test)"
      ],
      "execution_count": 0,
      "outputs": []
    },
    {
      "cell_type": "code",
      "metadata": {
        "id": "JC7v79Vv0twe",
        "colab_type": "code",
        "colab": {}
      },
      "source": [
        "confusion_matrix(y_test, lisvc2_pred)"
      ],
      "execution_count": 0,
      "outputs": []
    },
    {
      "cell_type": "code",
      "metadata": {
        "id": "aooBEKWy0trQ",
        "colab_type": "code",
        "colab": {}
      },
      "source": [
        "roc_auc_score(y_test, lisvc2_pred)"
      ],
      "execution_count": 0,
      "outputs": []
    },
    {
      "cell_type": "markdown",
      "metadata": {
        "id": "jdUHu5IS02_N",
        "colab_type": "text"
      },
      "source": [
        "C-SVC"
      ]
    },
    {
      "cell_type": "code",
      "metadata": {
        "id": "yE5eX1Sa0tpZ",
        "colab_type": "code",
        "colab": {}
      },
      "source": [
        "from sklearn.svm import SVC \n",
        "\n",
        "svc2 = SVC(gamma='auto')"
      ],
      "execution_count": 0,
      "outputs": []
    },
    {
      "cell_type": "code",
      "metadata": {
        "id": "WUmznUjE0th3",
        "colab_type": "code",
        "colab": {}
      },
      "source": [
        "svc2.fit(X_train, y_train)"
      ],
      "execution_count": 0,
      "outputs": []
    },
    {
      "cell_type": "code",
      "metadata": {
        "id": "lxrnyB-l0tfY",
        "colab_type": "code",
        "colab": {}
      },
      "source": [
        "svc2_pred = svc2.predict(X_test)"
      ],
      "execution_count": 0,
      "outputs": []
    },
    {
      "cell_type": "code",
      "metadata": {
        "id": "SA5aFsPn0tax",
        "colab_type": "code",
        "colab": {}
      },
      "source": [
        "svc2.score(X_test, y_test)"
      ],
      "execution_count": 0,
      "outputs": []
    },
    {
      "cell_type": "code",
      "metadata": {
        "id": "Z6uIBZo10tZf",
        "colab_type": "code",
        "colab": {}
      },
      "source": [
        "confusion_matrix(y_test, svc2_pred)"
      ],
      "execution_count": 0,
      "outputs": []
    },
    {
      "cell_type": "code",
      "metadata": {
        "id": "Gv37qFG40tYJ",
        "colab_type": "code",
        "colab": {}
      },
      "source": [
        "roc_auc_score(y_test, svc2_pred)"
      ],
      "execution_count": 0,
      "outputs": []
    },
    {
      "cell_type": "markdown",
      "metadata": {
        "id": "XrfB21tT1Lrw",
        "colab_type": "text"
      },
      "source": [
        "Neural Network\n",
        "\n",
        "With four hidden layers 90 - 70 - 50 - 30"
      ]
    },
    {
      "cell_type": "code",
      "metadata": {
        "id": "oUT13j-s0tVi",
        "colab_type": "code",
        "colab": {}
      },
      "source": [
        "from sklearn.neural_network import MLPClassifier"
      ],
      "execution_count": 0,
      "outputs": []
    },
    {
      "cell_type": "code",
      "metadata": {
        "id": "dyqoXRHm0tPK",
        "colab_type": "code",
        "outputId": "fb96eca7-9bc6-49d5-9816-1e254307f513",
        "colab": {
          "base_uri": "https://localhost:8080/",
          "height": 178
        }
      },
      "source": [
        "nn2 = MLPClassifier(solver='adam', alpha=1e-5,activation = 'logistic',hidden_layer_sizes=(90, 70, 50, 30), random_state=1)\n",
        "nn2.fit(X_train, y_train)"
      ],
      "execution_count": 0,
      "outputs": [
        {
          "output_type": "error",
          "ename": "NameError",
          "evalue": "ignored",
          "traceback": [
            "\u001b[0;31m---------------------------------------------------------------------------\u001b[0m",
            "\u001b[0;31mNameError\u001b[0m                                 Traceback (most recent call last)",
            "\u001b[0;32m<ipython-input-2-60a748f89b29>\u001b[0m in \u001b[0;36m<module>\u001b[0;34m()\u001b[0m\n\u001b[1;32m      1\u001b[0m \u001b[0mnn2\u001b[0m \u001b[0;34m=\u001b[0m \u001b[0mMLPClassifier\u001b[0m\u001b[0;34m(\u001b[0m\u001b[0msolver\u001b[0m\u001b[0;34m=\u001b[0m\u001b[0;34m'adam'\u001b[0m\u001b[0;34m,\u001b[0m \u001b[0malpha\u001b[0m\u001b[0;34m=\u001b[0m\u001b[0;36m1e-5\u001b[0m\u001b[0;34m,\u001b[0m\u001b[0mactivation\u001b[0m \u001b[0;34m=\u001b[0m \u001b[0;34m'logistic'\u001b[0m\u001b[0;34m,\u001b[0m\u001b[0mhidden_layer_sizes\u001b[0m\u001b[0;34m=\u001b[0m\u001b[0;34m(\u001b[0m\u001b[0;36m90\u001b[0m\u001b[0;34m,\u001b[0m \u001b[0;36m70\u001b[0m\u001b[0;34m,\u001b[0m \u001b[0;36m50\u001b[0m\u001b[0;34m,\u001b[0m \u001b[0;36m30\u001b[0m\u001b[0;34m)\u001b[0m\u001b[0;34m,\u001b[0m \u001b[0mrandom_state\u001b[0m\u001b[0;34m=\u001b[0m\u001b[0;36m1\u001b[0m\u001b[0;34m)\u001b[0m\u001b[0;34m\u001b[0m\u001b[0;34m\u001b[0m\u001b[0m\n\u001b[0;32m----> 2\u001b[0;31m \u001b[0mnn2\u001b[0m\u001b[0;34m.\u001b[0m\u001b[0mfit\u001b[0m\u001b[0;34m(\u001b[0m\u001b[0mX_train\u001b[0m\u001b[0;34m,\u001b[0m \u001b[0my_train\u001b[0m\u001b[0;34m)\u001b[0m\u001b[0;34m\u001b[0m\u001b[0;34m\u001b[0m\u001b[0m\n\u001b[0m",
            "\u001b[0;31mNameError\u001b[0m: name 'X_train' is not defined"
          ]
        }
      ]
    },
    {
      "cell_type": "code",
      "metadata": {
        "id": "6rxFr3Gy0tMk",
        "colab_type": "code",
        "colab": {}
      },
      "source": [
        "nn2_predict = nn2.predict(X_test)\n"
      ],
      "execution_count": 0,
      "outputs": []
    },
    {
      "cell_type": "code",
      "metadata": {
        "id": "uWwlWvGS1ayg",
        "colab_type": "code",
        "colab": {}
      },
      "source": [
        "nn2.score(X_test, y_test)"
      ],
      "execution_count": 0,
      "outputs": []
    },
    {
      "cell_type": "code",
      "metadata": {
        "id": "QHv0_-Um1cGn",
        "colab_type": "code",
        "colab": {}
      },
      "source": [
        "confusion_matrix(y_test, nn2_predict)"
      ],
      "execution_count": 0,
      "outputs": []
    },
    {
      "cell_type": "code",
      "metadata": {
        "id": "aTIJhgPe1cB_",
        "colab_type": "code",
        "colab": {}
      },
      "source": [
        "roc_auc_score(y_test, nn2_predict)"
      ],
      "execution_count": 0,
      "outputs": []
    },
    {
      "cell_type": "markdown",
      "metadata": {
        "id": "QzEz94V-1jDy",
        "colab_type": "text"
      },
      "source": [
        "Model & Data exportation"
      ]
    },
    {
      "cell_type": "code",
      "metadata": {
        "id": "qCuZH0va1b_e",
        "colab_type": "code",
        "colab": {}
      },
      "source": [
        "train_new['IsAlert'] = train['IsAlert']"
      ],
      "execution_count": 0,
      "outputs": []
    },
    {
      "cell_type": "code",
      "metadata": {
        "id": "EGpwwKRF1b9X",
        "colab_type": "code",
        "colab": {}
      },
      "source": [
        "from joblib import dump, load"
      ],
      "execution_count": 0,
      "outputs": []
    },
    {
      "cell_type": "code",
      "metadata": {
        "id": "W__mZp5E1b45",
        "colab_type": "code",
        "colab": {}
      },
      "source": [
        "from google.colab import drive"
      ],
      "execution_count": 0,
      "outputs": []
    },
    {
      "cell_type": "code",
      "metadata": {
        "id": "6BGpo4wW1b2p",
        "colab_type": "code",
        "colab": {}
      },
      "source": [
        "drive.mount('/content/gdrive', force_remount=True)\n",
        "root_dir = \"/content/gdrive/My Drive/\""
      ],
      "execution_count": 0,
      "outputs": []
    },
    {
      "cell_type": "code",
      "metadata": {
        "id": "yNoZ62nn2P5N",
        "colab_type": "code",
        "colab": {}
      },
      "source": [
        "base_dir = root_dir + 'fastai-v3/'"
      ],
      "execution_count": 0,
      "outputs": []
    },
    {
      "cell_type": "code",
      "metadata": {
        "id": "n6vSodT82P0Q",
        "colab_type": "code",
        "colab": {}
      },
      "source": [
        "from pathlib import Path\n",
        "path = Path(base_dir + 'data/bears')\n",
        "dest = path/'featuretrain.csv'\n",
        "dest.mkdir(parents=True, exist_ok=True)"
      ],
      "execution_count": 0,
      "outputs": []
    },
    {
      "cell_type": "code",
      "metadata": {
        "id": "yUug0suZ2PyE",
        "colab_type": "code",
        "colab": {}
      },
      "source": [
        "train_new.to_csv('featuredtrain.csv') # Dataset exportation"
      ],
      "execution_count": 0,
      "outputs": []
    },
    {
      "cell_type": "code",
      "metadata": {
        "id": "8_V9tawW2tPJ",
        "colab_type": "code",
        "colab": {}
      },
      "source": [
        "dump(forest, 'mstdforest.joblib') # Model exportation\n",
        "dump(nn2, 'mstdnn.joblib')"
      ],
      "execution_count": 0,
      "outputs": []
    },
    {
      "cell_type": "code",
      "metadata": {
        "id": "RZ4UvsAy2tLh",
        "colab_type": "code",
        "colab": {}
      },
      "source": [
        "t_sc = preprocessing.scale(train_new) \n",
        "pca_2=PCA() \n",
        "pca_2.fit(t_sc) "
      ],
      "execution_count": 0,
      "outputs": []
    },
    {
      "cell_type": "code",
      "metadata": {
        "id": "6XfIM3k-22T3",
        "colab_type": "code",
        "colab": {}
      },
      "source": [
        "t_pca=pca_2.transform(t_sc)"
      ],
      "execution_count": 0,
      "outputs": []
    },
    {
      "cell_type": "code",
      "metadata": {
        "id": "umAbdVZc22My",
        "colab_type": "code",
        "colab": {}
      },
      "source": [
        "y = pca_2.explained_variance_ratio_\n",
        "\n",
        "x = np.array([i for i in range(1, len(y)+1)])\n",
        "\n",
        "plt.plot(x, y, 'r-x')"
      ],
      "execution_count": 0,
      "outputs": []
    },
    {
      "cell_type": "code",
      "metadata": {
        "id": "EJFxCLmW217e",
        "colab_type": "code",
        "colab": {}
      },
      "source": [
        "sum(pca_2.explained_variance_ratio_[:30])"
      ],
      "execution_count": 0,
      "outputs": []
    },
    {
      "cell_type": "code",
      "metadata": {
        "id": "RfgbIRxh3PlS",
        "colab_type": "code",
        "colab": {}
      },
      "source": [
        "t_pca = t_pca[:,:14]\n",
        "t_pca.shape"
      ],
      "execution_count": 0,
      "outputs": []
    }
  ]
}